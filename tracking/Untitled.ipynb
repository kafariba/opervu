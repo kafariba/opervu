{
 "cells": [
  {
   "cell_type": "code",
   "execution_count": 36,
   "metadata": {},
   "outputs": [
    {
     "name": "stdout",
     "output_type": "stream",
     "text": [
      "[2, 2]\n"
     ]
    },
    {
     "data": {
      "text/plain": [
       "[-1, -1]"
      ]
     },
     "execution_count": 36,
     "metadata": {},
     "output_type": "execute_result"
    }
   ],
   "source": [
    "LOW_PIX = 0.5\n",
    "HIGH_PIX = 3.5\n",
    "\n",
    "def calc_vel(box1, box2):\n",
    "    if box1[0] > LOW_PIX and box1[1] > LOW_PIX and box1[2] < HIGH_PIX and box1[3] < HIGH_PIX:\n",
    "        cen1 = [int((box1[0] + box1[2])/2), int((box1[1] + box1[3])/2)]\n",
    "        cen2 = [int((box2[0] + box2[2])/2), int((box2[1] + box2[3])/2)]\n",
    "    elif box1[0] < LOW_PIX and box1[1] < LOW_PIX:\n",
    "        cen1 = [box1[2], box1[3]]\n",
    "        cen2 = [box2[2], box2[3]]\n",
    "    elif box1[2] > HIGH_PIX and box1[3] > HIGH_PIX:\n",
    "        cen1 = [box1[0], box1[1]]\n",
    "        cen2 = [box2[0], box2[1]]\n",
    "    elif box1[2] > HIGH_PIX and box1[1] < LOW_PIX:\n",
    "        cen1 = [box1[0], box1[3]]\n",
    "        cen2 = [box2[0], box2[3]]\n",
    "    elif box1[0] < LOW_PIX and box1[3] > HIGH_PIX:\n",
    "        cen1 = [box1[2], box1[1]]\n",
    "        cen2 = [box2[2], box2[1]]\n",
    "    elif box1[1] < LOW_PIX:\n",
    "        cen1 = [int((box1[0] + box1[2])/2), box1[3]]\n",
    "        cen2 = [int((box2[0] + box2[2])/2), box2[3]]\n",
    "    elif box1[2] > HIGH_PIX:\n",
    "        cen1 = [box1[0], int((box1[1] + box1[3])/2)]\n",
    "        cen2 = [box2[0], int((box2[1] + box2[3])/2)]\n",
    "    elif box1[3] > HIGH_PIX:\n",
    "        cen1 = [int((box1[0] + box1[2])/2), box1[1]]\n",
    "        cen2 = [int((box2[0] + box2[2])/2), box2[1]]\n",
    "    elif box1[0] < LOW_PIX:\n",
    "        cen1 = [box1[2], int((box1[1] + box1[3])/2)]\n",
    "        cen2 = [box2[2], int((box2[1] + box2[3])/2)]\n",
    "       \n",
    "    print(cen1)\n",
    "    return [cen1[0] - cen2[0], cen1[1] - cen2[1]]\n",
    "\n",
    "calc_vel([0,0,2,2], [1,1,3,3])"
   ]
  },
  {
   "cell_type": "code",
   "execution_count": 3,
   "metadata": {},
   "outputs": [
    {
     "data": {
      "text/plain": [
       "False"
      ]
     },
     "execution_count": 3,
     "metadata": {},
     "output_type": "execute_result"
    }
   ],
   "source": [
    "x = 1\n",
    "y = 0\n",
    "x == y == 0\n"
   ]
  },
  {
   "cell_type": "code",
   "execution_count": null,
   "metadata": {},
   "outputs": [],
   "source": []
  }
 ],
 "metadata": {
  "kernelspec": {
   "display_name": "tf-env",
   "language": "python",
   "name": "tf-env"
  },
  "language_info": {
   "codemirror_mode": {
    "name": "ipython",
    "version": 3
   },
   "file_extension": ".py",
   "mimetype": "text/x-python",
   "name": "python",
   "nbconvert_exporter": "python",
   "pygments_lexer": "ipython3",
   "version": "3.6.9"
  }
 },
 "nbformat": 4,
 "nbformat_minor": 4
}
